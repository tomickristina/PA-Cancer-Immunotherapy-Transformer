{
 "cells": [
  {
   "cell_type": "code",
   "execution_count": 2,
   "id": "c311f929-e86c-4508-8db8-5e7d29600af8",
   "metadata": {},
   "outputs": [
    {
     "ename": "ModuleNotFoundError",
     "evalue": "No module named 'tcrpeg'",
     "output_type": "error",
     "traceback": [
      "\u001b[0;31m---------------------------------------------------------------------------\u001b[0m",
      "\u001b[0;31mModuleNotFoundError\u001b[0m                       Traceback (most recent call last)",
      "Cell \u001b[0;32mIn[2], line 1\u001b[0m\n\u001b[0;32m----> 1\u001b[0m \u001b[38;5;28;01mfrom\u001b[39;00m \u001b[38;5;21;01mtcrpeg\u001b[39;00m\u001b[38;5;21;01m.\u001b[39;00m\u001b[38;5;21;01mTCRpeg\u001b[39;00m \u001b[38;5;28;01mimport\u001b[39;00m TCRpeg\n\u001b[1;32m      2\u001b[0m \u001b[38;5;66;03m# from tcrpeg.classification import classification\u001b[39;00m\n\u001b[1;32m      3\u001b[0m \u001b[38;5;28;01mimport\u001b[39;00m \u001b[38;5;21;01mpandas\u001b[39;00m \u001b[38;5;28;01mas\u001b[39;00m \u001b[38;5;21;01mpd\u001b[39;00m\n",
      "\u001b[0;31mModuleNotFoundError\u001b[0m: No module named 'tcrpeg'"
     ]
    }
   ],
   "source": [
    "from tcrpeg.TCRpeg import TCRpeg\n",
    "# from tcrpeg.classification import classification\n",
    "import pandas as pd\n",
    "# import numpy as np\n",
    "# import os\n",
    "# from tcrpeg.evaluate import evaluation\n",
    "# from tcrpeg.utils import plotting\n",
    "from tcrpeg.word2vec import word2vec\n",
    "import warnings\n",
    "warnings.filterwarnings('ignore')"
   ]
  },
  {
   "cell_type": "code",
   "execution_count": 1,
   "id": "3b4658e8-3fdf-4f3c-8439-aac0d2ded896",
   "metadata": {},
   "outputs": [
    {
     "ename": "NameError",
     "evalue": "name 'pd' is not defined",
     "output_type": "error",
     "traceback": [
      "\u001b[0;31m---------------------------------------------------------------------------\u001b[0m",
      "\u001b[0;31mNameError\u001b[0m                                 Traceback (most recent call last)",
      "Cell \u001b[0;32mIn[1], line 2\u001b[0m\n\u001b[1;32m      1\u001b[0m path_to_IEDB \u001b[38;5;241m=\u001b[39m \u001b[38;5;124m\"\u001b[39m\u001b[38;5;124m/home/ubuntu/PA-Cancer-Immunotherapy/GNN/processed_data/IEDB/IEDB.csv\u001b[39m\u001b[38;5;124m\"\u001b[39m\n\u001b[0;32m----> 2\u001b[0m df \u001b[38;5;241m=\u001b[39m pd\u001b[38;5;241m.\u001b[39mread_csv(path_to_IEDB)\n\u001b[1;32m      3\u001b[0m df\u001b[38;5;241m.\u001b[39mhead()\n",
      "\u001b[0;31mNameError\u001b[0m: name 'pd' is not defined"
     ]
    }
   ],
   "source": [
    "path_to_IEDB = \"/home/ubuntu/PA-Cancer-Immunotherapy/GNN/processed_data/IEDB/IEDB.csv\"\n",
    "df = pd.read_csv(path_to_IEDB)\n",
    "df.head()"
   ]
  },
  {
   "cell_type": "code",
   "execution_count": null,
   "id": "50ba1a12-4244-40ac-8e99-177088458729",
   "metadata": {},
   "outputs": [],
   "source": [
    "seq_embs = model.get_embedding(tcrs_train[:100])\n",
    "seq_embs[0,:][:10]"
   ]
  }
 ],
 "metadata": {
  "kernelspec": {
   "display_name": "Python 3 (ipykernel)",
   "language": "python",
   "name": "python3"
  },
  "language_info": {
   "codemirror_mode": {
    "name": "ipython",
    "version": 3
   },
   "file_extension": ".py",
   "mimetype": "text/x-python",
   "name": "python",
   "nbconvert_exporter": "python",
   "pygments_lexer": "ipython3",
   "version": "3.11.4"
  }
 },
 "nbformat": 4,
 "nbformat_minor": 5
}
