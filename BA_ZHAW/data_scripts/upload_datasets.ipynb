{
 "cells": [
  {
   "cell_type": "code",
   "execution_count": 1,
   "metadata": {},
   "outputs": [
    {
     "ename": "Exception",
     "evalue": "Missing parameter precision.",
     "output_type": "error",
     "traceback": [
      "\u001b[0;31m---------------------------------------------------------------------------\u001b[0m",
      "\u001b[0;31mException\u001b[0m                                 Traceback (most recent call last)",
      "Cell \u001b[0;32mIn[1], line 6\u001b[0m\n\u001b[1;32m      4\u001b[0m \u001b[38;5;28;01mif\u001b[39;00m \u001b[38;5;129;01mnot\u001b[39;00m \u001b[38;5;124m'\u001b[39m\u001b[38;5;124mprecision\u001b[39m\u001b[38;5;124m'\u001b[39m \u001b[38;5;129;01min\u001b[39;00m \u001b[38;5;28mlocals\u001b[39m():\n\u001b[1;32m      5\u001b[0m     precision \u001b[38;5;241m=\u001b[39m \u001b[38;5;124m'\u001b[39m\u001b[38;5;124mgene\u001b[39m\u001b[38;5;124m'\u001b[39m\n\u001b[0;32m----> 6\u001b[0m     \u001b[38;5;28;01mraise\u001b[39;00m \u001b[38;5;167;01mException\u001b[39;00m(\u001b[38;5;124m\"\u001b[39m\u001b[38;5;124mMissing parameter precision.\u001b[39m\u001b[38;5;124m\"\u001b[39m)\n\u001b[1;32m      8\u001b[0m \u001b[38;5;28;01mif\u001b[39;00m \u001b[38;5;129;01mnot\u001b[39;00m \u001b[38;5;124m'\u001b[39m\u001b[38;5;124mmain_project_name\u001b[39m\u001b[38;5;124m'\u001b[39m \u001b[38;5;129;01min\u001b[39;00m \u001b[38;5;28mlocals\u001b[39m():\n\u001b[1;32m      9\u001b[0m     main_project_name \u001b[38;5;241m=\u001b[39m \u001b[38;5;124m'\u001b[39m\u001b[38;5;124mBA_Project_ZHAW\u001b[39m\u001b[38;5;124m'\u001b[39m\n",
      "\u001b[0;31mException\u001b[0m: Missing parameter precision."
     ]
    }
   ],
   "source": [
    "import wandb\n",
    "import os\n",
    "\n",
    "if not 'precision' in locals():\n",
    "    precision = 'allele'\n",
    "    raise Exception(\"Missing parameter precision.\")\n",
    "\n",
    "if not 'main_project_name' in locals():\n",
    "    main_project_name = 'pa_cancerimmunotherapy'\n",
    "    raise Exception(\"Missing parameter W&B project name\")\n",
    "\n",
    "if not 'path_to_data' in locals():\n",
    "    path_to_data = '/oscar/BA_ZHAW/data_10x/splitted_datasets/allele/paired/'\n",
    "\n",
    "if not 'dataset_name' in locals():\n",
    "    dataset_name = \"Vanilla_Gene\"\n",
    "\n",
    "# alternative name: Vanilla_Allele, Physico_Gene, Physico_Allele\n",
    "print(f\"uploading dataset to {main_project_name}\")\n",
    "run = wandb.init(project=main_project_name, job_type=\"Upload Dataset\", entity=\"pa_cancerimmunotherapy\")\n",
    "artifact = wandb.Artifact(name=dataset_name, type=\"dataset\")\n",
    "artifact.add_dir(path_to_data, name=precision)\n",
    "run.log_artifact(artifact)\n",
    "wandb.finish()"
   ]
  }
 ],
 "metadata": {
  "kernelspec": {
   "display_name": "Python 3 (ipykernel)",
   "language": "python",
   "name": "python3"
  },
  "language_info": {
   "codemirror_mode": {
    "name": "ipython",
    "version": 3
   },
   "file_extension": ".py",
   "mimetype": "text/x-python",
   "name": "python",
   "nbconvert_exporter": "python",
   "pygments_lexer": "ipython3",
   "version": "3.11.4"
  }
 },
 "nbformat": 4,
 "nbformat_minor": 4
}
