{
 "cells": [
  {
   "cell_type": "code",
   "execution_count": 11,
   "id": "4b7d9aad-927d-4dcb-955a-c9e3c7e1d7c7",
   "metadata": {},
   "outputs": [
    {
     "name": "stdout",
     "output_type": "stream",
     "text": [
      "Error: File not found at path: ./data_10x/splitted_datasets/allele/paired/test.tsv\n",
      "Keys in Epitope_paired_embeddings.npz: 1377\n",
      "Keys in TRA_paired_embeddings.npz: 42011\n",
      "Keys in TRB_paired_embeddings.npz: 45758\n",
      "Unmapped TRA_CDR3 sequences: 0 []\n",
      "Unmapped TRB_CDR3 sequences: 0 []\n",
      "Unmapped Epitope sequences: 0 []\n"
     ]
    }
   ],
   "source": [
    "from torch.utils.data import DataLoader, SequentialSampler\n",
    "from dataclass_paired_vanilla import PairedVanilla\n",
    "\n",
    "# Test-Dataset erstellen (Pfad und Dictionaries müssen übereinstimmen)\n",
    "precision = \"allele\"\n",
    "embed_base_dir = f\"../../data_10x/embeddings/paired/{precision}\"\n",
    "\n",
    "\n",
    "# Lade Dictionaries (falls benötigt)\n",
    "traV_dict = {}  # Lade die Dictionaries entsprechend\n",
    "traJ_dict = {}\n",
    "trbV_dict = {}\n",
    "trbJ_dict = {}\n",
    "mhc_dict = {}\n",
    "\n",
    "test_file_path = \"../../data_10x/splitted_datasets/allele/paired/test.tsv\"\n",
    "test_dataset = PairedVanilla(test_file_path, embed_base_dir, traV_dict, traJ_dict, trbV_dict, trbJ_dict, mhc_dict)\n",
    "\n",
    "# Test-Dataloader erstellen\n",
    "SEQ_MAX_LENGTH = 200  # Passe dies an dein Training an\n",
    "BATCH_SIZE = 1  # Evaluierung oft Batchgröße 1\n",
    "\n",
    "def pad_collate(self, batch):\n",
    "        epitope_embeddings, tra_cdr3_embeddings, trb_cdr3_embeddings = [], [], []\n",
    "        v_alpha, j_alpha, v_beta, j_beta = [], [], [], []\n",
    "        epitope_sequence, tra_cdr3_sequence, trb_cdr3_sequence = [], [], []\n",
    "        mhc = []\n",
    "        task = []\n",
    "        labels = []\n",
    "\n",
    "        for item in batch:\n",
    "            epitope_embeddings.append(item[\"epitope_embedding\"])\n",
    "            epitope_sequence.append(item[\"epitope_sequence\"])\n",
    "            tra_cdr3_embeddings.append(item[\"tra_cdr3_embedding\"])\n",
    "            tra_cdr3_sequence.append(item[\"tra_cdr3_sequence\"])\n",
    "            trb_cdr3_embeddings.append(item[\"trb_cdr3_embedding\"])\n",
    "            trb_cdr3_sequence.append(item[\"trb_cdr3_sequence\"])\n",
    "            v_alpha.append(item[\"v_alpha\"])\n",
    "            j_alpha.append(item[\"j_alpha\"])\n",
    "            v_beta.append(item[\"v_beta\"])\n",
    "            j_beta.append(item[\"j_beta\"])\n",
    "            mhc.append(item[\"mhc\"])\n",
    "            task.append(item[\"task\"])\n",
    "            labels.append(item[\"label\"])\n",
    "\n",
    "        max_length = self.seq_max_length\n",
    "\n",
    "test_dataloader = DataLoader(\n",
    "    test_dataset,\n",
    "    batch_size=BATCH_SIZE,\n",
    "    sampler=SequentialSampler(test_dataset),\n",
    "    num_workers=0,  # Keep as 0 for compatibility\n",
    "    collate_fn=pad_collate\n",
    ")\n",
    "\n",
    "#123"
   ]
  },
  {
   "cell_type": "code",
   "execution_count": 7,
   "id": "e3097365-eb47-4672-8754-6c39ae8b84fe",
   "metadata": {},
   "outputs": [
    {
     "name": "stdout",
     "output_type": "stream",
     "text": [
      "/home/ubuntu/PA-Cancer-Immunotherapy-Transformer/BA_ZHAW/models/paired_vanilla/data_10x/splitted_datasets/allele/paired/test.tsv\n"
     ]
    }
   ],
   "source": [
    "import os\n",
    "print(os.path.abspath(\"./data_10x/splitted_datasets/allele/paired/test.tsv\"))\n"
   ]
  },
  {
   "cell_type": "code",
   "execution_count": 13,
   "id": "3882af05-49d2-44c9-a787-3f000014837b",
   "metadata": {},
   "outputs": [
    {
     "name": "stderr",
     "output_type": "stream",
     "text": [
      "/tmp/ipykernel_37676/725910668.py:39: FutureWarning: You are using `torch.load` with `weights_only=False` (the current default value), which uses the default pickle module implicitly. It is possible to construct malicious pickle data which will execute arbitrary code during unpickling (See https://github.com/pytorch/pytorch/blob/main/SECURITY.md#untrusted-models for more details). In a future release, the default value for `weights_only` will be flipped to `True`. This limits the functions that could be executed during unpickling. Arbitrary objects will no longer be allowed to be loaded via this mode unless they are explicitly allowlisted by the user via `torch.serialization.add_safe_globals`. We recommend you start setting `weights_only=True` for any use case where you don't have full control of the loaded file. Please open an issue on GitHub for any issues related to this experimental feature.\n",
      "  model.load_state_dict(torch.load(\"VanillaModel.pth\", map_location=DEVICE), strict=True)\n"
     ]
    },
    {
     "ename": "FileNotFoundError",
     "evalue": "[Errno 2] No such file or directory: 'VanillaModel.pth'",
     "output_type": "error",
     "traceback": [
      "\u001b[0;31m---------------------------------------------------------------------------\u001b[0m",
      "\u001b[0;31mFileNotFoundError\u001b[0m                         Traceback (most recent call last)",
      "Cell \u001b[0;32mIn[13], line 39\u001b[0m\n\u001b[1;32m     26\u001b[0m model \u001b[38;5;241m=\u001b[39m VanillaModel(\n\u001b[1;32m     27\u001b[0m     EMBEDDING_SIZE, \n\u001b[1;32m     28\u001b[0m     SEQ_MAX_LENGTH, \n\u001b[0;32m   (...)\u001b[0m\n\u001b[1;32m     35\u001b[0m     hyperparameters\n\u001b[1;32m     36\u001b[0m )\n\u001b[1;32m     38\u001b[0m \u001b[38;5;66;03m# Lade die Modellgewichte\u001b[39;00m\n\u001b[0;32m---> 39\u001b[0m model\u001b[38;5;241m.\u001b[39mload_state_dict(torch\u001b[38;5;241m.\u001b[39mload(\u001b[38;5;124m\"\u001b[39m\u001b[38;5;124mVanillaModel.pth\u001b[39m\u001b[38;5;124m\"\u001b[39m, map_location\u001b[38;5;241m=\u001b[39mDEVICE), strict\u001b[38;5;241m=\u001b[39m\u001b[38;5;28;01mTrue\u001b[39;00m)\n\u001b[1;32m     41\u001b[0m \u001b[38;5;66;03m# Setze das Modell in den Evaluationsmodus\u001b[39;00m\n\u001b[1;32m     42\u001b[0m model\u001b[38;5;241m.\u001b[39meval()\n",
      "File \u001b[0;32m~/.local/lib/python3.12/site-packages/torch/serialization.py:1319\u001b[0m, in \u001b[0;36mload\u001b[0;34m(f, map_location, pickle_module, weights_only, mmap, **pickle_load_args)\u001b[0m\n\u001b[1;32m   1316\u001b[0m \u001b[38;5;28;01mif\u001b[39;00m \u001b[38;5;124m\"\u001b[39m\u001b[38;5;124mencoding\u001b[39m\u001b[38;5;124m\"\u001b[39m \u001b[38;5;129;01mnot\u001b[39;00m \u001b[38;5;129;01min\u001b[39;00m pickle_load_args\u001b[38;5;241m.\u001b[39mkeys():\n\u001b[1;32m   1317\u001b[0m     pickle_load_args[\u001b[38;5;124m\"\u001b[39m\u001b[38;5;124mencoding\u001b[39m\u001b[38;5;124m\"\u001b[39m] \u001b[38;5;241m=\u001b[39m \u001b[38;5;124m\"\u001b[39m\u001b[38;5;124mutf-8\u001b[39m\u001b[38;5;124m\"\u001b[39m\n\u001b[0;32m-> 1319\u001b[0m \u001b[38;5;28;01mwith\u001b[39;00m _open_file_like(f, \u001b[38;5;124m\"\u001b[39m\u001b[38;5;124mrb\u001b[39m\u001b[38;5;124m\"\u001b[39m) \u001b[38;5;28;01mas\u001b[39;00m opened_file:\n\u001b[1;32m   1320\u001b[0m     \u001b[38;5;28;01mif\u001b[39;00m _is_zipfile(opened_file):\n\u001b[1;32m   1321\u001b[0m         \u001b[38;5;66;03m# The zipfile reader is going to advance the current file position.\u001b[39;00m\n\u001b[1;32m   1322\u001b[0m         \u001b[38;5;66;03m# If we want to actually tail call to torch.jit.load, we need to\u001b[39;00m\n\u001b[1;32m   1323\u001b[0m         \u001b[38;5;66;03m# reset back to the original position.\u001b[39;00m\n\u001b[1;32m   1324\u001b[0m         orig_position \u001b[38;5;241m=\u001b[39m opened_file\u001b[38;5;241m.\u001b[39mtell()\n",
      "File \u001b[0;32m~/.local/lib/python3.12/site-packages/torch/serialization.py:659\u001b[0m, in \u001b[0;36m_open_file_like\u001b[0;34m(name_or_buffer, mode)\u001b[0m\n\u001b[1;32m    657\u001b[0m \u001b[38;5;28;01mdef\u001b[39;00m \u001b[38;5;21m_open_file_like\u001b[39m(name_or_buffer, mode):\n\u001b[1;32m    658\u001b[0m     \u001b[38;5;28;01mif\u001b[39;00m _is_path(name_or_buffer):\n\u001b[0;32m--> 659\u001b[0m         \u001b[38;5;28;01mreturn\u001b[39;00m _open_file(name_or_buffer, mode)\n\u001b[1;32m    660\u001b[0m     \u001b[38;5;28;01melse\u001b[39;00m:\n\u001b[1;32m    661\u001b[0m         \u001b[38;5;28;01mif\u001b[39;00m \u001b[38;5;124m\"\u001b[39m\u001b[38;5;124mw\u001b[39m\u001b[38;5;124m\"\u001b[39m \u001b[38;5;129;01min\u001b[39;00m mode:\n",
      "File \u001b[0;32m~/.local/lib/python3.12/site-packages/torch/serialization.py:640\u001b[0m, in \u001b[0;36m_open_file.__init__\u001b[0;34m(self, name, mode)\u001b[0m\n\u001b[1;32m    639\u001b[0m \u001b[38;5;28;01mdef\u001b[39;00m \u001b[38;5;21m__init__\u001b[39m(\u001b[38;5;28mself\u001b[39m, name, mode):\n\u001b[0;32m--> 640\u001b[0m     \u001b[38;5;28msuper\u001b[39m()\u001b[38;5;241m.\u001b[39m\u001b[38;5;21m__init__\u001b[39m(\u001b[38;5;28mopen\u001b[39m(name, mode))\n",
      "\u001b[0;31mFileNotFoundError\u001b[0m: [Errno 2] No such file or directory: 'VanillaModel.pth'"
     ]
    }
   ],
   "source": [
    "import torch\n",
    "from vanilla_model import VanillaModel  # Importiere die Modellstruktur\n",
    "\n",
    "# Parameter wie beim Training definieren\n",
    "EMBEDDING_SIZE = 1024\n",
    "SEQ_MAX_LENGTH = 30  \n",
    "DEVICE = \"cuda\" if torch.cuda.is_available() else \"cpu\"\n",
    "\n",
    "# Lade die eingebetteten Dimensionen (z. B. falls diese Dictionaries vorhanden sind)\n",
    "traV_embed_len = 26  # Beispielwert, setze diesen entsprechend dem Training\n",
    "traJ_embed_len = 26\n",
    "trbV_embed_len = 26\n",
    "trbJ_embed_len = 26\n",
    "mhc_embed_len = 26\n",
    "\n",
    "# Setze die Hyperparameter entsprechend dem Training\n",
    "hyperparameters = {\n",
    "    \"optimizer\": \"sgd\",\n",
    "    \"learning_rate\": 5e-3,\n",
    "    \"weight_decay\": 0.075,\n",
    "    \"dropout_attention\": 0.3,\n",
    "    \"dropout_linear\": 0.45\n",
    "}\n",
    "\n",
    "# Erstelle eine Instanz des Modells\n",
    "model = VanillaModel(\n",
    "    EMBEDDING_SIZE, \n",
    "    SEQ_MAX_LENGTH, \n",
    "    DEVICE, \n",
    "    traV_embed_len, \n",
    "    traJ_embed_len, \n",
    "    trbV_embed_len, \n",
    "    trbJ_embed_len, \n",
    "    mhc_embed_len, \n",
    "    hyperparameters\n",
    ")\n",
    "\n",
    "# Lade die Modellgewichte\n",
    "model.load_state_dict(torch.load(\"VanillaModel.pth\", map_location=DEVICE), strict=True)\n",
    "\n",
    "# Setze das Modell in den Evaluationsmodus\n",
    "model.eval()\n",
    "\n",
    "print(\"Modell erfolgreich geladen und im Evaluationsmodus.\")\n"
   ]
  },
  {
   "cell_type": "code",
   "execution_count": null,
   "id": "525d0505-1aca-4b61-b8ef-f8837c1642c2",
   "metadata": {},
   "outputs": [],
   "source": [
    "from sklearn.metrics import confusion_matrix, accuracy_score, precision_score, recall_score\n",
    "\n",
    "def evaluate_loaded_model(model, dataloader):\n",
    "    true_labels = []\n",
    "    predicted_labels = []\n",
    "\n",
    "    with torch.no_grad():  # Keine Gradientenberechnung erforderlich\n",
    "        for data in dataloader:\n",
    "            inputs, labels = data  # Passe dies ggf. an deine Datenstruktur an\n",
    "            outputs = model(inputs.to(DEVICE))\n",
    "            _, predicted = torch.max(outputs, 1)\n",
    "\n",
    "            true_labels.extend(labels.cpu().numpy())\n",
    "            predicted_labels.extend(predicted.cpu().numpy())\n",
    "\n",
    "    # Berechne Metriken\n",
    "    conf_matrix = confusion_matrix(true_labels, predicted_labels)\n",
    "    accuracy = accuracy_score(true_labels, predicted_labels)\n",
    "    precision = precision_score(true_labels, predicted_labels, zero_division=0)\n",
    "    recall = recall_score(true_labels, predicted_labels, zero_division=0)\n",
    "\n",
    "    print(\"Confusion Matrix:\")\n",
    "    print(conf_matrix)\n",
    "    print(f\"Accuracy: {accuracy}\")\n",
    "    print(f\"Precision: {precision}\")\n",
    "    print(f\"Recall: {recall}\")\n",
    "\n",
    "# Beispiel für den Aufruf der Evaluierungsfunktion\n",
    "# Annahme: test_dataloader wurde bereits erstellt, wie in deinem Trainingsskript\n",
    "evaluate_loaded_model(model, test_dataloader)\n"
   ]
  },
  {
   "cell_type": "code",
   "execution_count": null,
   "id": "67834baa-b999-4c2c-a6b5-bc02b9c33445",
   "metadata": {},
   "outputs": [],
   "source": []
  }
 ],
 "metadata": {
  "kernelspec": {
   "display_name": "Python 3 (ipykernel)",
   "language": "python",
   "name": "python3"
  },
  "language_info": {
   "codemirror_mode": {
    "name": "ipython",
    "version": 3
   },
   "file_extension": ".py",
   "mimetype": "text/x-python",
   "name": "python",
   "nbconvert_exporter": "python",
   "pygments_lexer": "ipython3",
   "version": "3.12.2"
  }
 },
 "nbformat": 4,
 "nbformat_minor": 5
}
